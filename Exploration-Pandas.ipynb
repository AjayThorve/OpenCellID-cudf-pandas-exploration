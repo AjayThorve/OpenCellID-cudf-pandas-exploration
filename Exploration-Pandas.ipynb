{
 "cells": [
  {
   "cell_type": "markdown",
   "id": "478f5866-2e96-4f16-a067-7f73f9e0b347",
   "metadata": {},
   "source": [
    "# OpenCellID Data Exploration with Pandas (accelerated by cudf.pandas)\n",
    "\n",
    "[OpenCellID](https://wiki.opencellid.org/wiki/What_is_OpenCellID) is the world's largest collaborative community project that collects GPS positions of cell towers, used free of charge, for a multitude of commercial and private purposes.\n",
    "\n",
    "The OpenCellID project was primarily created to serve as a data source for GSM localisation. As of October, 2017, the database contained almost 36 million unique GSM Cell IDs. More than 75,000 contributors have already registered with OpenCellID, contributing millions of new measurements every day in average to the OpenCellID database.\n",
    "\n",
    "OpenCellID provides 100% free Cell ID data under a [Creative Commons Attribution-ShareAlike 4.0 International License](https://creativecommons.org/licenses/by-sa/4.0/). The OpenCellID database is published under an open content license with the intention of promoting free use and redistribution of the data. All data uploaded by any of the contributors can also be downloaded again free of charge - no exceptions!\n",
    "\n"
   ]
  },
  {
   "cell_type": "markdown",
   "id": "e0c741a3-b8c1-4e89-bbc9-8a61c1ebeeae",
   "metadata": {},
   "source": [
    "## Load cudf.pandas extension"
   ]
  },
  {
   "cell_type": "code",
   "execution_count": null,
   "id": "e5816f80-d6ba-42cc-b917-8777813cc0be",
   "metadata": {},
   "outputs": [],
   "source": [
    "%load_ext cudf.pandas"
   ]
  },
  {
   "cell_type": "markdown",
   "id": "99ac710c-f82a-4992-a135-f13e2526d5b5",
   "metadata": {},
   "source": [
    "## Import required Packages"
   ]
  },
  {
   "cell_type": "code",
   "execution_count": null,
   "id": "0f706004-c048-454e-9e9b-02601566352e",
   "metadata": {},
   "outputs": [],
   "source": [
    "# importing viz libraries\n",
    "import hvplot.pandas\n",
    "import pydeck as pdk\n",
    "import panel as pn\n",
    "pn.extension(\"deckgl\", loading_indicator=True, template='material')\n",
    "\n",
    "#importing pandas\n",
    "import pandas as pd"
   ]
  },
  {
   "cell_type": "markdown",
   "id": "05a7e4fb-3095-4c65-a9ec-eb95061911f4",
   "metadata": {},
   "source": [
    "## Download cell-data (https://www.opencellid.org/)\n",
    "\n",
    "> Google Colab: Use download_us_dataset() for a smaller dataset to test the notebook with the free tier of google colab"
   ]
  },
  {
   "cell_type": "code",
   "execution_count": null,
   "id": "cdd185d5-0f32-4bd9-8198-806740d02786",
   "metadata": {},
   "outputs": [],
   "source": [
    "# Download the script from a GitHub repository\n",
    "# !wget https://raw.githubusercontent.com/your-username/your-repo/main/opencellid_downloader.py\n",
    "\n",
    "from opencellid_downloader import OpenCellIDDownloader\n",
    "OpenCellIDDownloader(token=\"your_token_here\").download_us_dataset() # use download_full_dataset() to download the entire world dataset"
   ]
  },
  {
   "cell_type": "markdown",
   "id": "e8293e2c-525b-455f-823e-39329177382b",
   "metadata": {},
   "source": [
    "## Read cell-data (https://www.opencellid.org/)\n",
    "\n",
    "### Column Descriptions\n",
    "\n",
    "- **Radio**:\tThe generation of broadband cellular network technology (Eg. LTE, GSM)\n",
    "\n",
    "- **MCC**:\tMobile country code. This info is publicly shared by International Telecommunication Union (link)\n",
    "\n",
    "- **MNC**:\tMobile network code. This info is publicly shared by International Telecommunication Union (link)\n",
    "\n",
    "- **AREA**:\tLocation Area Code\n",
    "\n",
    "- **CELL**:\tThis is a unique number used to identify each Base transceiver station or sector of BTS\n",
    "\n",
    "- **Longitude**:\tLongitude, is a geographic coordinate that specifies the east-west position of a point on the Earth's surface\n",
    "\n",
    "- **Latitude**:\tLatitude is a geographic coordinate that specifies the north–south position of a point on the Earth's surface.\n",
    "\n",
    "- **Range**:\tApproximate area within which the cell could be. (In meters)\n",
    "\n",
    "- **Samples**:\tNumber of measures processed to get a particular data point\n",
    "\n",
    "- **Changeable=1**:\tThe location is determined by processing samples\n",
    "\n",
    "- **Changeable=0**:\tThe location is directly obtained from the telecom firm\n",
    "\n",
    "- **Created**:\tWhen a particular cell was first added to database (UNIX timestamp)\n",
    "\n",
    "- **Updated**:\tWhen a particular cell was last seen (UNIX timestamp)\n",
    "\n",
    "- **AverageSignal**:\tTo get the positions of cells, OpenCelliD processes measurements from data contributors. Each measurement includes GPS location of device + Scanned cell identifier (MCC-MNC-LAC-CID) + Other device properties (Signal strength). In this process, signal strength of the device is averaged. Most ‘averageSignal’ values are 0 because OpenCelliD simply didn’t receive signal strength values.\n"
   ]
  },
  {
   "cell_type": "code",
   "execution_count": null,
   "id": "b7d08b76-04ad-4811-ac72-70ccdcdfc1d9",
   "metadata": {},
   "outputs": [],
   "source": [
    "%%cudf.pandas.profile\n",
    "df = pd.read_csv('./opencellid_data/cell_towers_us.csv')\n",
    "\n",
    "df.rename(columns={'net':'MNC', 'mcc':'MCC'}, inplace=True)\n",
    "\n",
    "print(df.shape)"
   ]
  },
  {
   "cell_type": "code",
   "execution_count": null,
   "id": "2e2f8439-f2c5-4d8f-8160-42feac8eea94",
   "metadata": {},
   "outputs": [],
   "source": [
    "df.head()"
   ]
  },
  {
   "cell_type": "markdown",
   "id": "b9f6265b-f871-4af2-8d47-3fa0b6c84db2",
   "metadata": {},
   "source": [
    "## Read mcc-mnc dataset to map to carrier name\n",
    "\n",
    "Publicaly available dataset: https://mcc-mnc.net/ powered by [simbase](https://www.simbase.com/)\n"
   ]
  },
  {
   "cell_type": "code",
   "execution_count": null,
   "id": "51bdef47-5277-42c8-bd95-240cfdce7695",
   "metadata": {},
   "outputs": [],
   "source": [
    "%%time\n",
    "df_carriers = pd.read_csv('https://s3.amazonaws.com/mcc-mnc.net/mcc-mnc.csv', sep=';')[['MCC', 'MNC', 'Country', 'Operator']]\n",
    "\n",
    "# rename Operator to Operator\n",
    "df_carriers.rename(columns={'Operator': 'Operator'}, inplace=True)"
   ]
  },
  {
   "cell_type": "code",
   "execution_count": null,
   "id": "ba11bc6f-7462-48df-9a42-db0eb670f871",
   "metadata": {},
   "outputs": [],
   "source": [
    "df_carriers.head()"
   ]
  },
  {
   "cell_type": "code",
   "execution_count": null,
   "id": "8dda75a1-dfe0-4dcd-8b5f-261195e324ca",
   "metadata": {},
   "outputs": [],
   "source": [
    "%%time\n",
    "df_final = df.merge(df_carriers, left_on=['MCC', 'MNC'], right_on=['MCC', 'MNC']).drop(columns=['MCC', 'MNC'])"
   ]
  },
  {
   "cell_type": "code",
   "execution_count": null,
   "id": "9c71f99b-5fd2-49f3-845b-aa784a6849ca",
   "metadata": {},
   "outputs": [],
   "source": [
    "%%time\n",
    "df_final.head()"
   ]
  },
  {
   "cell_type": "markdown",
   "id": "9e63aa8d-f26d-4e9e-82d7-03a14e1a48f3",
   "metadata": {},
   "source": [
    "### Analyzing Operator types"
   ]
  },
  {
   "cell_type": "code",
   "execution_count": null,
   "id": "a68107c9-f653-407a-b181-ecdeaf894e1d",
   "metadata": {},
   "outputs": [],
   "source": [
    "%%time\n",
    "# Most reported cell towers by operators\n",
    "df_final.Operator.value_counts()"
   ]
  },
  {
   "cell_type": "code",
   "execution_count": null,
   "id": "6819d364-636c-4e80-9713-66e0a8f3d3a8",
   "metadata": {},
   "outputs": [],
   "source": [
    "%%time\n",
    "# Categorizing Operators with less than 1000 cells to other to reduce clutter\n",
    "operatorss_to_rename = df_final.Operator.value_counts()[df_final.Operator.value_counts()<=1000].index.tolist()\n",
    "len(operatorss_to_rename)"
   ]
  },
  {
   "cell_type": "code",
   "execution_count": null,
   "id": "20f533c7-e3c2-4195-bdae-6e6f04f1e25d",
   "metadata": {},
   "outputs": [],
   "source": [
    "%%time\n",
    "df_final['Operator'] = df_final['Operator'].replace(operatorss_to_rename, 'Other')"
   ]
  },
  {
   "cell_type": "code",
   "execution_count": null,
   "id": "54417082-d71b-425a-ad53-1fecd3b1793e",
   "metadata": {},
   "outputs": [],
   "source": [
    "operators_df = df_final.groupby(['Country', 'Operator']).agg({'radio':'count'}).reset_index()"
   ]
  },
  {
   "cell_type": "code",
   "execution_count": null,
   "id": "4eb82e28-e5e1-4577-8a6f-c61272b545d7",
   "metadata": {},
   "outputs": [],
   "source": [
    "# Final operator analysis\n",
    "operators_df"
   ]
  },
  {
   "cell_type": "markdown",
   "id": "e50310f4-81f7-4050-8d11-a828b9d67818",
   "metadata": {},
   "source": [
    "### Analyzing Radio types"
   ]
  },
  {
   "cell_type": "code",
   "execution_count": null,
   "id": "b1c6a18e-e420-482b-93da-edfcc04e321b",
   "metadata": {},
   "outputs": [],
   "source": [
    "# Analyzing radio cell tower types\n",
    "df_final.radio.value_counts().reset_index().hvplot.barh(x='radio')"
   ]
  },
  {
   "cell_type": "code",
   "execution_count": null,
   "id": "a851e5aa-b9c3-4192-a168-080298057a40",
   "metadata": {},
   "outputs": [],
   "source": [
    "# Most LTE towers country wise\n",
    "df_final[df_final.radio == 'LTE'].Country.value_counts().reset_index().head(10).hvplot.barh(x='Country')"
   ]
  },
  {
   "cell_type": "code",
   "execution_count": null,
   "id": "4dea7399-7151-4b26-a26f-10e5417b408e",
   "metadata": {},
   "outputs": [],
   "source": [
    "%%time\n",
    "columns = ['radio', 'area', 'lon', 'lat', 'range', 'samples', 'changeable', 'created', 'averageSignal', 'Country', 'Operator']\n",
    "df_final = df_final[columns]"
   ]
  },
  {
   "cell_type": "markdown",
   "id": "f2fd41b3-0256-4a90-902f-515af9d3c473",
   "metadata": {},
   "source": [
    "## Create an exploratory panel dashboard"
   ]
  },
  {
   "cell_type": "code",
   "execution_count": null,
   "id": "c27dd65c-556b-45c7-8b0e-f582aba53eb8",
   "metadata": {},
   "outputs": [],
   "source": [
    "%%time\n",
    "# Convert 'radio' to a color value to display in the dashboard\n",
    "color_map = {\n",
    "    'UMTS': [255, 165, 0, 140],  # Orange\n",
    "    'LTE': [255, 0, 0, 140],     # Red\n",
    "    'GSM': [135, 206, 250, 140], # Light Blue\n",
    "    'CDMA': [123, 104, 238, 140],# Medium Slate Blue\n",
    "    'NR': [0, 128, 0, 140]       # Green\n",
    "}\n",
    "df_final['color'] = df_final['radio'].map(color_map)"
   ]
  },
  {
   "cell_type": "code",
   "execution_count": null,
   "id": "191b28e2-cc7a-42e1-b72a-e83a0963b2d4",
   "metadata": {},
   "outputs": [],
   "source": [
    "# declare a legend\n",
    "legend_markdown = \"\"\"\n",
    "### Radio Type Legend\n",
    "\n",
    "- **UMTS**: <span style=\"height: 10px; width: 10px; background-color: rgba(255, 165, 0, 0.55); border-radius: 50%; display: inline-block;\"></span>\n",
    "- **LTE**: <span style=\"height: 10px; width: 10px; background-color: rgba(255, 0, 0, 0.55); border-radius: 50%; display: inline-block;\"></span>\n",
    "- **GSM**: <span style=\"height: 10px; width: 10px; background-color: rgba(135, 206, 250, 0.55); border-radius: 50%; display: inline-block;\"></span>\n",
    "- **CDMA**: <span style=\"height: 10px; width: 10px; background-color: rgba(123, 104, 238, 0.55); border-radius: 50%; display: inline-block;\"></span>\n",
    "- **NR**: <span style=\"height: 10px; width: 10px; background-color: rgba(0, 128, 0, 0.55); border-radius: 50%; display: inline-block;\"></span>\n",
    "\"\"\""
   ]
  },
  {
   "cell_type": "code",
   "execution_count": null,
   "id": "281f0bf2-dd85-4e50-9378-672d4a621d2c",
   "metadata": {},
   "outputs": [],
   "source": [
    "# point_budget is used to curtail number of points rendered at any time. Can be adjusted as per client browser capabilities\n",
    "point_budget = pn.widgets.IntSlider(name=\"Point Budget\", value=100_000, start=10_000, end=1_000_000, step=10_000)\n",
    "\n",
    "# country to display the cell-tower data points for\n",
    "countries = pn.widgets.Select(name=\"Countries\", value=\"United States of America\", options=df_final.Country.unique().tolist())\n",
    "\n",
    "# filter by radio cell tower type (GSM, LTE, UMTS, CDMA or all)\n",
    "radio = pn.widgets.Select(name=\"Radio Tower Type\", value=\"all\", options=df_final.radio.unique().tolist() + ['all'])"
   ]
  },
  {
   "cell_type": "code",
   "execution_count": null,
   "id": "257de5de-60c0-4ecb-932c-5eaa9ade55c2",
   "metadata": {},
   "outputs": [],
   "source": [
    "pdk.settings.custom_libraries = [\n",
    "    {\n",
    "        \"libraryName\": \"MyTileLayerLibrary\",\n",
    "        \"resourceUri\": \"https://cdn.jsdelivr.net/gh/agressin/pydeck_myTileLayer@master/dist/bundle.js\",\n",
    "    }\n",
    "]\n",
    "\n",
    "DATA_URL = 'https://c.tile.openstreetmap.org/{z}/{x}/{y}.png'\n",
    "\n",
    "custom_layer = pdk.Layer(\n",
    "    \"MyTileLayer\",\n",
    "    DATA_URL\n",
    ")\n",
    "# Interactive plot function that displays a globe view, and cell-tower datapoints on top in deckgl\n",
    "def plot(point_budget, country, radio='all'):\n",
    "    selected_indices = df_final.Country == country\n",
    "    if radio != 'all':\n",
    "        selected_indices &= df_final.radio == radio\n",
    "    df_visualize = df_final[selected_indices]\n",
    "\n",
    "    if point_budget < df_visualize.shape[0]:\n",
    "        df_visualize = df_visualize.sample(n=point_budget)\n",
    "    COUNTRIES = \"https://d2ad6b4ur7yvpq.cloudfront.net/naturalearth-3.3.0/ne_50m_admin_0_scale_rank.geojson\"\n",
    "    # Define the layer\n",
    "    layers = [\n",
    "        pdk.Layer(\n",
    "            \"GeoJsonLayer\",\n",
    "            id=\"base-map\",\n",
    "            data=COUNTRIES,\n",
    "            stroked=False,\n",
    "            filled=True,\n",
    "            get_fill_color=[200, 200, 200],\n",
    "        ),\n",
    "        pdk.Layer(\n",
    "        'ScatterplotLayer',  # Use ScatterplotLayer\n",
    "        df_visualize,\n",
    "        pickable=True,\n",
    "        opacity=0.8,\n",
    "        stroked=True,\n",
    "        filled=True,\n",
    "        radius_scale=6,\n",
    "        radius_min_pixels=1,\n",
    "        radius_max_pixels=10,\n",
    "        line_width_min_pixels=1,\n",
    "        get_position=['lon', 'lat'],\n",
    "        radius=1000,\n",
    "        get_line_color=\"color\"\n",
    "    )]\n",
    "    # Set the viewport location\n",
    "    view_state = pdk.ViewState(latitude=df_visualize.lat.median(), longitude=df_visualize.lon.median(), zoom=2, bearing=0, pitch=0)\n",
    "    view = pdk.View(type=\"_GlobeView\", controller=True, width=1000, height=700)\n",
    "    # Render\n",
    "    return pn.pane.DeckGL(pdk.Deck(views=[view],layers=layers, initial_view_state=view_state, map_provider=None,\n",
    "            ), height=600, width=1200)\n",
    "\n",
    "# Current dataSize as per the active filters\n",
    "def dataSize(country, radio):\n",
    "    selected_indices = df_final.Country == country\n",
    "    if radio != 'all':\n",
    "        selected_indices &= df_final.radio == radio\n",
    "    return pn.widgets.Number(name=\"Data Size\", value=df_final[selected_indices].shape[0], format=\"{value:,}\")\n",
    "\n",
    "\n",
    "# Bind above interactive plots to pn.Widgets declared above\n",
    "interactive_plot = pn.bind(plot, point_budget, countries, radio)\n",
    "datasize_plot = pn.bind(dataSize, countries, radio)"
   ]
  },
  {
   "cell_type": "code",
   "execution_count": null,
   "id": "6de35175-1fb0-4418-b450-8fc67ad01ba6",
   "metadata": {},
   "outputs": [],
   "source": [
    "# Declare the layout of the dashboard and run\n",
    "pn.Row(\n",
    "    pn.WidgetBox(\n",
    "        datasize_plot,\n",
    "        point_budget,\n",
    "        countries,\n",
    "        radio,\n",
    "        pn.pane.Markdown(legend_markdown)\n",
    "    ),\n",
    "    interactive_plot\n",
    ")"
   ]
  },
  {
   "cell_type": "code",
   "execution_count": null,
   "id": "9491837b-bac0-4158-8aad-072158400a4b",
   "metadata": {},
   "outputs": [],
   "source": []
  }
 ],
 "metadata": {
  "kernelspec": {
   "display_name": "Python 3 (ipykernel)",
   "language": "python",
   "name": "python3"
  },
  "language_info": {
   "codemirror_mode": {
    "name": "ipython",
    "version": 3
   },
   "file_extension": ".py",
   "mimetype": "text/x-python",
   "name": "python",
   "nbconvert_exporter": "python",
   "pygments_lexer": "ipython3",
   "version": "3.11.9"
  }
 },
 "nbformat": 4,
 "nbformat_minor": 5
}
